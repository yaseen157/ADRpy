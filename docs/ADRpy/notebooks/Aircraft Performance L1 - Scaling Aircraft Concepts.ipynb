{
 "cells": [
  {
   "cell_type": "code",
   "execution_count": 1,
   "id": "8f25854d",
   "metadata": {
    "execution": {
     "iopub.execute_input": "2025-01-28T08:28:19.878232Z",
     "iopub.status.busy": "2025-01-28T08:28:19.878232Z",
     "iopub.status.idle": "2025-01-28T08:28:19.881161Z",
     "shell.execute_reply": "2025-01-28T08:28:19.881161Z"
    }
   },
   "outputs": [],
   "source": [
    "# The notebook's environment might not recognise local installs of ADRpy, fix that now...\n",
    "import os, sys\n",
    "sys.path.append(os.path.abspath(os.path.join(os.getcwd(), \"..\\\\..\\\\..\\\\src\")))"
   ]
  },
  {
   "cell_type": "markdown",
   "id": "29e3f8dc",
   "metadata": {},
   "source": [
    "<img src=\"../img/ADRpy_splash.png\" width=\"30%\" align=\"left\">\n",
    "\n",
    "> _\"Getting something to fly is easy. What's difficult is getting it to fly well.\" (Unknown)_"
   ]
  },
  {
   "cell_type": "markdown",
   "id": "930b4024",
   "metadata": {},
   "source": [
    "# Aircraft Performance L1 - Scaling Aircraft Concepts"
   ]
  },
  {
   "cell_type": "markdown",
   "id": "de1e7847",
   "metadata": {},
   "source": [
    "Given a general layout (perhaps one of several candidates at this stage) and some idea of the maximum take-off weight, the next major step of the conceptual design process is the constraint analysis, which will yield the required wing area and thrust - effectively giving 'scale' to the concept.\n",
    "\n",
    "The constraint analysis establishes the boundaries of the feasible part of the thrust to weight ratio (T/W) versus wing loading (W/S) space. Each element of the mission of the aircraft 'bites out' a chunk from this space and the aeroplane we progress to the subsequent stages of the design process will have to 'live' in the remaining subspace - generally at the lowest thrust/smallest wing point of the remaining feasible chunk.\n",
    "\n",
    "This approach is effective in identifying wing loadings for which the demand placed on the propulsion system is minimised, as well as which constraints are ambitious or underdeveloped."
   ]
  },
  {
   "cell_type": "markdown",
   "id": "b29d7e86",
   "metadata": {},
   "source": [
    "## Contents"
   ]
  },
  {
   "cell_type": "markdown",
   "id": "481de7f0",
   "metadata": {},
   "source": [
    "Arguably one of the most important topics of this notebook:\n",
    "- [Sea-level static mapping](#Sea-level-static-mapping)\n",
    "\n",
    "Governing equations for performance constraints based on the conditions at, in, or during:\n",
    "- [Take-off](#Take-off)\n",
    "- [Climb](#Climb)\n",
    "- [Cruise](#Cruise)\n",
    "- [Sustained turn](#Sustained-turn)\n",
    "- [Service ceiling](#Service-ceiling)\n",
    "\n",
    "<!-- _Under construction/consideration. Sorry!_\n",
    "- ⚠️Instantaneous turn\n",
    "- ⚠️Descent\n",
    "- ⚠️Landing -->"
   ]
  },
  {
   "cell_type": "markdown",
   "id": "8aa493a5",
   "metadata": {},
   "source": [
    "## Sea-level static mapping\n",
    "[Back to Contents ⬆️](#Contents)"
   ]
  },
  {
   "cell_type": "markdown",
   "id": "b461ae8d-a148-44d9-a19f-396ae74e8c25",
   "metadata": {},
   "source": [
    "The procedure for computing thrust-to-weight ratios required of a concept, for a particular wing loading, is dependent on the concept's experiential lift and drag forces.\n",
    "These can change drastically depending on the ambient flight conditions, fuel state of the vehicle, embarked payload etc.\n",
    "Additionally, even first-order approximations of thrust (such as those estiamtes used in conceptual design) will depend on the atmosphere and other dynamic properties of flight (at least, this is the case for air-breathing engines).\n",
    "\n",
    "The goal of scaling is to have all the design constraints of the aircraft intelligently inform the selection of a suitable propulsion system architecture.\n",
    "Therefore for example, it is not helpful to directly compare the thrust-to-weight ratios computed at cruise to the thrust-to-weight required for takeoff"
   ]
  },
  {
   "cell_type": "markdown",
   "id": "ee76ede7",
   "metadata": {},
   "source": [
    "$$\n",
    "\\text{nonsensical:} \\ \\\n",
    "\\frac{T_{\\text{climb}}}{W_{\\text{climb}}}\n",
    "\\longleftrightarrow\n",
    "\\frac{T_{\\text{cruise}}}{W_{\\text{cruise}}}\n",
    "\\longleftrightarrow \\dots\n",
    "$$"
   ]
  },
  {
   "cell_type": "markdown",
   "id": "94d9ef5b",
   "metadata": {},
   "source": [
    "*Comparing thrust-to-weights as evaluated by the equations of motion between different phases of flight is not helpful.*"
   ]
  },
  {
   "cell_type": "markdown",
   "id": "d4f4768d",
   "metadata": {},
   "source": [
    "Fortunately, ADRpy is here to help.\n",
    "At the concept sizing stage, it is possible to prescribe the weight of the vehicle at a constraint point as a fraction of the maximum take-off weight $(W_{\\text{climb}} / W)$, allowing users to normalise the thrust requirement to a known weight"
   ]
  },
  {
   "cell_type": "markdown",
   "id": "edf3799a",
   "metadata": {},
   "source": [
    "$$\n",
    "\\text{intriguing:} \\ \\\n",
    "\\frac{T_{\\text{climb}}}{W_{\\text{climb}}}\n",
    "\\times\n",
    "\\frac{(W_{\\text{climb}} / W)}{1}\n",
    "= \\frac{T_{\\text{climb}}}{W}\n",
    "$$"
   ]
  },
  {
   "cell_type": "markdown",
   "id": "61b7358a",
   "metadata": {},
   "source": [
    "where $W$ is the MTOW.\n",
    "\n",
    "Additionally, the thrust (and power) lapses $(T_{\\text{climb}} / T)$ and $(P_{\\text{climb}} / P)$ due to altitude and forward flight speed above sea-level static can be estimated using models contained witin the `ADRpy.propulsion` module."
   ]
  },
  {
   "cell_type": "markdown",
   "id": "06b43172",
   "metadata": {},
   "source": [
    "$$\n",
    "\\text{delightful:} \\ \\\n",
    "\\frac{T_{\\text{climb}}}{W_{\\text{climb}}}\n",
    "\\times\n",
    "\\frac{(W_{\\text{climb}} / W)}{(T_{\\text{climb}} / T)}\n",
    "= \\frac{T}{W}\n",
    "$$"
   ]
  },
  {
   "cell_type": "markdown",
   "id": "0659371e",
   "metadata": {},
   "source": [
    "where $T$ and $P$ are sea-level static thrust and power outputs, respectively (and often the most easily obtained and quoted performance metrics of an engine).\n",
    "\n",
    "In ADRpy's `AircraftConcept` class, all T/W and P/W estimates are automatically normalised to sea-level static and MTOW conditions without a need for user intervention.\n",
    "For more information on the lapse of an engine's available thrust and power, check out the notebook on modelling engine decks."
   ]
  },
  {
   "cell_type": "markdown",
   "id": "a5e8503c",
   "metadata": {},
   "source": [
    "## Take-off\n",
    "[Back to Contents ⬆️](#Contents)"
   ]
  },
  {
   "cell_type": "markdown",
   "id": "c95a9fa0",
   "metadata": {},
   "source": [
    "### Stall speeds"
   ]
  },
  {
   "cell_type": "markdown",
   "id": "e94206fb",
   "metadata": {},
   "source": [
    "*Stall speeds* play an important role in early conceptual analysis due to their impact on the take-off, approach, and landing constraints. Generically denoted $V_S$, the stall speed is the minimum airspeed at which the aircraft is able to maintain steady, level flight; in this state the angle of attack is at its critical (or stall) value. \n",
    "\n",
    "In an operational context, stall speed is generally expressed in terms of the indicated airspeed (to be precise, at the conceptual design level we take this to be the equivalent airspeed, but, let us use the $V_\\mathrm{S (IAS)}$ notation for now), though we can write the lift equation at stall in terms of either IAS or TAS (note the different densities - $\\rho_0$ is the sea level standard day ISA density):\n",
    "\n",
    "$$L = W = \\frac{1}{2}\\rho_0 V_\\mathrm{s (IAS)}^2 SC_\\mathrm{Lmax}$$\n",
    "\n",
    "$$L = W = \\frac{1}{2}\\rho V_\\mathrm{s (TAS)}^2 SC_\\mathrm{Lmax}.$$\n",
    "\n",
    "Of course, we could also write the lift equation in terms of the stall dynamic pressure $q_\\mathrm{s}$: $L = W = q_\\mathrm{s}SC_\\mathrm{Lmax}$ and we will do so later, but, for now, let us express the stall speed from one of the equations above, in order to make its drivers clear:\n",
    "\n",
    "$$V_\\mathrm{s(TAS)} = \\sqrt{\\frac{2 W/S}{\\rho C_\\mathrm{Lmax}}}.$$\n",
    "\n",
    "Obviously the geometry of the aircraft (which determines the $C_\\mathrm{Lmax}$) and its wing loading ($W/S$) are the key factors here. For this reason, stall speed related constraints have a massive impact on the cost and the complexity of the aircraft: increasing $C_\\mathrm{Lmax}$ (and thus reducing stall speed) is generally achieved through more sophisticated and complicated high lift systems, as well as through more lightly loaded (and thus larger) wings.\n",
    "\n",
    "In the case of aircraft with variable geometry wings -- such as, wings fitted with high lift devices -- $C_\\mathrm{Lmax}$ also varies, so we always need to be specific about which configuration a particular $C_\\mathrm{Lmax}$ (and thus, also, $V_\\mathrm{s}$) relates to. Certification documents -- such as CS-25 -- use: \n",
    "\n",
    "- $V_\\mathrm{S0}$ to denote stall speed in the 'everything hanging out' landing configuration and \n",
    "- $V_\\mathrm{S1}$ to denote stall speed in some other, specified configuration."
   ]
  },
  {
   "cell_type": "markdown",
   "id": "89748144",
   "metadata": {},
   "source": [
    "### Rotation speed"
   ]
  },
  {
   "cell_type": "markdown",
   "id": "c997b669",
   "metadata": {},
   "source": [
    "Another important speed of the take-off is the *rotation speed* $V_\\mathrm{R}$. The rotation phase of the take-off begins at the moment when the pilot makes a control input designed to lift the aircraft off the runway. \n",
    "\n",
    "The operational reasoning behind the selection of $V_\\mathrm{R}$ is that, in case of subsequent engine failure, it should enable the aircraft to reach a take-off safety speed $V_2$ above a specified obstacle height.\n",
    "\n",
    "For conceptual level take-off analysis the common first order estimate of the rotation speed is $V_\\mathrm{R}=1.1V_\\mathrm{S1}^\\mathrm{TO}$, where $V_\\mathrm{S1}^\\mathrm{TO}$ is the stall speed in the take-off configuration (this estimate can be written in terms of any type of airspeed)."
   ]
  },
  {
   "cell_type": "markdown",
   "id": "1db65c9c",
   "metadata": {},
   "source": [
    "### Take-off technique"
   ]
  },
  {
   "cell_type": "markdown",
   "id": "e82eda78",
   "metadata": {},
   "source": [
    "There are some key differences between how very light aircraft (of the order of, say, 10s of kg MTOW) and heavy transports should be treated from a conceptual take-off analysis perspective.\n",
    "\n",
    "First, the take-off roll technique may be quite different. A radio-controlled aircraft pilot, operating from a grass field, may apply a slight nose-up elevator input some way before $V_R$ to ease the pressure on the wheels, thus reducing their rolling resistance (a similar technique is used on some large aircraft when taking off from contaminated runways). \n",
    "\n",
    "Second, very light unmanned aircraft will rotate practically instantaneously, so their lift-off speed $V_\\mathrm{L}$ is approximately equal to $V_\\mathrm{R}$, while large transport aeroplanes will rotate slowly (2-3 deg/s), lifting off 2.5-4 seconds later, potentially gaining a few more knots in the process (their rotation rates are a compromise between avoiding tail strike and exceeding the speed limits of their tyres).\n",
    "\n",
    "In general, at the conceptual level, we will make the approximation $V_\\mathrm{L}\\approx V_\\mathrm{R}$."
   ]
  },
  {
   "cell_type": "markdown",
   "id": "e4803afa",
   "metadata": {},
   "source": [
    "### Certification requirements "
   ]
  },
  {
   "cell_type": "markdown",
   "id": "b33b1a19",
   "metadata": {},
   "source": [
    "According to CS 23.51, the corresponding speed $V_R$ must:\n",
    "- not be less than the greater of 5% above the minimum controllable speed with critical engine inoperative $V_\\mathrm{MC}$ and 10% above $V_\\mathrm{S1}$ for twin engined aircraft and\n",
    "- not less than $V_\\mathrm{S1}$ for single engined aircraft.\n",
    "\n",
    "CS 25.107 sets out a similar (though somewhat more complicated) methodology for calculating $V_\\mathrm{R}$ for Part 25 aeroplanes. \n",
    "\n",
    "Once a concept is arrived at, its performance must be checked against these."
   ]
  },
  {
   "cell_type": "markdown",
   "id": "7346ffe3",
   "metadata": {},
   "source": [
    "### A simple take-off performance model"
   ]
  },
  {
   "cell_type": "markdown",
   "id": "09235f15",
   "metadata": {},
   "source": [
    "#### From Newton's second law to the take-off constraint"
   ]
  },
  {
   "cell_type": "markdown",
   "id": "1a6aa3ae",
   "metadata": {},
   "source": [
    "To keep the notation as uncluttered as possible, we will, in what follows, consider runway projections of the acceleration, drag, thrust and resultant force without explicitly noting this."
   ]
  },
  {
   "cell_type": "markdown",
   "id": "41baf201",
   "metadata": {},
   "source": [
    "Considering an aircraft on the runway, performing its take-off run, we shall denote the resultant forces acting on the aircraft with $F$. This force imparts the aircraft of mass $m$ an acceleration $a_\\mathrm{TO}$:\n",
    "\n",
    "$$F = m\\frac{dV}{dt} = m\\,a_\\mathrm{TO}$$"
   ]
  },
  {
   "cell_type": "markdown",
   "id": "476eb97f",
   "metadata": {},
   "source": [
    "From here the acceleration can be written, introducing the aircraft weight $W$, as:\n",
    "\n",
    "$$a_\\mathrm{TO} = \\frac{F}{m} = \\frac{g\\,F}{W}$$"
   ]
  },
  {
   "cell_type": "markdown",
   "id": "eeb85500",
   "metadata": {},
   "source": [
    "In terms of its projection on the direction of the runway we can write $F$ as the sum of the thrust $T$, the drag $D$ and the landing gear rolling resistance $\\mu_\\mathrm{R}(W-L)$:\n",
    "\n",
    "$$a_\\mathrm{TO} = \\frac{g}{W}\\left[T-D-\\mu_\\mathrm{R}(W-L)\\right].$$"
   ]
  },
  {
   "cell_type": "markdown",
   "id": "76784167",
   "metadata": {},
   "source": [
    "In the above equation $g$ and $W$ are constant, but everything else varies during the take-off run. However, at this stage, we may not know enough about our tentative aeroplane to calculate these variations (also, we are after some very fast, first order estimates). Instead, we shall use representative constant values for lift, thrust and drag (denoted by $\\overline{L}$, $\\overline{T}$ and $\\overline{D}$ respectively) and re-write the expression for an assumed constant take-off roll acceleration in these terms:\n",
    "\n",
    "$$\\overline{a_\\mathrm{TO}} = \\frac{g}{W}\\left[\\overline{T}-\\overline{D}-\\mu_\\mathrm{R}(W-\\overline{L})\\right]$$"
   ]
  },
  {
   "cell_type": "markdown",
   "id": "64db03cf",
   "metadata": {},
   "source": [
    "We are seeking an equation of the form $T/W=f(W/S)$ -- to that end, we re-arrange the above as:\n",
    "\n",
    "$$\\frac{\\overline{T}}{W} = \\frac{\\overline{a_\\mathrm{TO}}}{g} + \\frac{\\overline{D}}{W} + \\mu_\\mathrm{R}\\left(1-\\frac{\\overline{L}}{W}\\right)$$"
   ]
  },
  {
   "cell_type": "markdown",
   "id": "c0b1307f",
   "metadata": {},
   "source": [
    "The acceleration $\\overline{a_\\mathrm{TO}}$ is that which result in a lift-off speed $V_\\mathrm{L}$ at the end of a ground roll distance $d_\\mathrm{G}$ is $V^2_\\mathrm{L}/2d_\\mathrm{G}$ (assuming at this early stage, a uniformly accelerating motion).\n",
    "The average drag can be written as $\\overline{D}=\\overline{q}C_D^\\mathrm{TO}S$ and the average lift as $\\overline{L}=\\overline{q}C_L^\\mathrm{TO}S$. Assuming that at the end of the take-off roll the aircraft will generate a lift equal to its weight, we can replace the weight in the equation above with $W = q_\\mathrm{TO}C_L^\\mathrm{TO}S$, so we can rewrite the thrust to weight equation as:"
   ]
  },
  {
   "cell_type": "markdown",
   "id": "8cbee495",
   "metadata": {},
   "source": [
    "$$\\frac{\\overline{T}}{W} = \\frac{V^2_L}{2d_\\mathrm{G}g} + \\frac{\\overline{q}C_D^\\mathrm{TO}S}{q_\\mathrm{TO}C_L^\\mathrm{TO}S} + \\mu_\\mathrm{R}\\left(1-\\frac{\\overline{q}C_L^\\mathrm{TO}S}{q_\\mathrm{TO}C_L^\\mathrm{TO}S}\\right)$$"
   ]
  },
  {
   "cell_type": "markdown",
   "id": "6a82aa49",
   "metadata": {},
   "source": [
    "$$\n",
    "\\longrightarrow \\quad\n",
    "\\frac{\\overline{T}}{W}\n",
    "= \\frac{V^2_L}{2d_\\mathrm{G}g}\n",
    "+ \\frac{C_D^\\mathrm{TO}}{C_L^\\mathrm{TO}} \\cdot \\left(\\frac{\\overline{q}}{q_\\mathrm{TO}}\\right)\n",
    "+ \\mu_\\mathrm{R} \\cdot \\left(1-\\frac{\\overline{q}}{q_\\mathrm{TO}}\\right)\n",
    "$$"
   ]
  },
  {
   "cell_type": "markdown",
   "id": "d7beccd5",
   "metadata": {},
   "source": [
    "For aircraft scaling purposes, we are looking for the limiting case in which $\\overline{T}/W$ is maximised.\n",
    "If we neglect the penalty of airspeed on the thrust lapse (see [sea-level static mapping](#Sea-level-static-mapping) and the engine deck modelling notebook), we should find the ratio $\\overline{q}/q_\\mathrm{TO}$ effectively weights the contributions of aerodynamic and rolling resistance penalties.\n",
    "From inspection $\\overline{q}/q_\\mathrm{TO}\\in [0, 1]$ to maximise aerodynamic or rolling resistance penalties, or:"
   ]
  },
  {
   "cell_type": "markdown",
   "id": "9f354863",
   "metadata": {},
   "source": [
    "$$\n",
    "\\frac{\\overline{T}}{W}\n",
    "= \\frac{V^2_L}{2d_\\mathrm{G}g}\n",
    "+ \\text{max} \\left( \\frac{C_D^\\mathrm{TO}}{C_L^\\mathrm{TO}}\\,\\,,\\,\\,\\mu_\\mathrm{R} \\right)\n",
    "$$"
   ]
  },
  {
   "cell_type": "markdown",
   "id": "f1d95512",
   "metadata": {},
   "source": [
    "For a first-order approximation, either of the penalties are treated as constants - meaning there is no need to compute the dynamic pressure."
   ]
  },
  {
   "cell_type": "markdown",
   "id": "67312263",
   "metadata": {},
   "source": [
    "The proximity of the wings to the ground result in disturbances to the flow field around the aircraft, which have the effect of reducing the drag as a function of the *ground influence coefficient*, $\\phi$.\n",
    "The coefficient of induced drag *in ground effect* (IGE) is proportional to $C_{D_i}$ out of ground effect (OGE)"
   ]
  },
  {
   "cell_type": "markdown",
   "id": "a1299d8d",
   "metadata": {},
   "source": [
    "$$\n",
    "C_{D_{i, \\text{IGE}}}^{TO}\n",
    "= \\phi \\cdot C_{D_{i, \\text{OGE}}}^{TO}\n",
    "\\quad \\text{with} \\quad\n",
    "\\phi(h) \\leq 1\n",
    "$$"
   ]
  },
  {
   "cell_type": "markdown",
   "id": "0949cd4d",
   "metadata": {},
   "source": [
    "where $h$ is the height of the wings off the ground."
   ]
  },
  {
   "cell_type": "markdown",
   "id": "c2eb1318",
   "metadata": {},
   "source": [
    "Also using the \n",
    "\n",
    "$$V_L\\approx V_\\mathrm{R(TAS)} = 1.1V_\\mathrm{S1(TAS)}^\\mathrm{TO} = 1.1\\sqrt{\\frac{2 W/S}{\\rho C_\\mathrm{Lmax}^\\mathrm{TO}}}$$\n",
    "\n",
    "approximation introduced earlier (note that we have $\\rho$ in the equation this time, and not $\\rho_0$, as we are dealing with TAS - this is because $V_\\mathrm{L}$ comes from a purely kinematic calculation and it is therefore, technically, ground speed, which, with the zero wind assumption, is equal to TAS), the (average) thrust to weight ratio required for a ground roll of $d_\\mathrm{G}$ can be written as:\n",
    "\n",
    "$$\n",
    "\\frac{\\overline{T}}{W} =\n",
    "1.21\\frac{W/S}{\\rho C_\\mathrm{Lmax}^\\mathrm{TO}gd_\\mathrm{G}}\n",
    "+\\text{max} \\left( \\frac{C_D^\\mathrm{TO} \\left(C_L^\\mathrm{TO}, \\phi\\right)}{C_L^\\mathrm{TO}}\\,\\,,\\,\\,\\mu_\\mathrm{R} \\right)\n",
    "$$\n",
    "\n",
    "where $C_D^\\mathrm{TO}$ is taken to be a function of the lift coefficient $C_L^\\mathrm{TO}$ and ground influence coefficient $\\phi$."
   ]
  },
  {
   "cell_type": "markdown",
   "id": "3ca4c46e",
   "metadata": {},
   "source": [
    "Broadly speaking, this equation breaks the required thrust to weight ratio down into three components.\n",
    "\n",
    "The first is an inertial component -- the $\\overline{T}/W$ required to accelerate the mass of the aeroplane to take-off speed. There is an element of aerodynamics here too, as the speed we need to achieve for lift-off depends on the maximum lift coefficient $C_\\mathrm{Lmax}^\\mathrm{TO}$.\n",
    "Further extending the high lift devices is the obvious way to increase this, but then that also increases drag (penalised by the next term), which is why high lift devices tend not be used to their full capacity at take-off (the full capacity is usually set by the landing constraint).\n",
    "\n",
    "The second component deals with most of the aerodynamics -- this rewards an aerodynamically efficient airframe; the higher the drag to lift ratio, the more thrust the propulsion system will have to supply.\n",
    "\n",
    "The third term is driven by the rolling resistance, accounting for the thrust 'wasted' in overcoming the rolling resistance of the wheels. For CS-23/CS-25 scale aircraft values of $\\mu_\\mathrm{R}$ range from 0.03 (dry asphalt) to 0.08 (wet grass); higher values may be used for small unmanned aircraft."
   ]
  },
  {
   "cell_type": "markdown",
   "id": "8336b4a2",
   "metadata": {},
   "source": [
    "#### The small print"
   ]
  },
  {
   "cell_type": "markdown",
   "id": "5164f9ac",
   "metadata": {},
   "source": [
    "Before pressing this model into service, we need to clarify some of its notations, limitations and assumptions.\n",
    "\n",
    "First, the velocities. The calculations above assume zero wind. This means that we can just talk about 'speed' without specifying whether that mean *ground speed* in the inertial terms and *true airspeed* in the aerodynamic terms.\n",
    "\n",
    "Next, the aerodynamic coefficients. $C_\\mathrm{D}^\\mathrm{TO}$ and $C_\\mathrm{L}^\\mathrm{TO}$ are the drag and lift coefficient values for the aircraft rolling along the runway, in take-off configuration (landing gear and take-off flaps down), wing in ground effect.\n",
    "\n",
    "Further, the calculations set out above are based on the approximation that at the speed $V_\\mathrm{L}$ in this take-off configuration and with wheels still on the ground, the net lift generated by the aircraft is equal to its weight. A moment later, when rotation occurs, everything will change as the angle of attack increases: the aircraft will generate more drag, but also more lift; as the lift exceeds the weight of the aircraft, a positive vertical acceleration will result as the wheels leave the ground.\n",
    "\n",
    "$S_\\mathrm{ref}$ is the reference area of the wing, with respect to which $C_\\mathrm{D}^\\mathrm{TO}$ and $C_\\mathrm{L}^\\mathrm{TO}$ are defined. In general, this is the planform (projected) area of the wing, though there are subtle differences in how this is calculated. The source of the variety of approaches here is that, on most aircraft, the low pressure areas above the two wings join together over the fuselage, so it makes sense to include into the area accounting some type of virtual extension of the wings up to the centreline of the aircraft. At this early stage in the design process we shall consider a simple trapeze planform, but it is important to be aware of the different methods used by different aircraft manufacturers when using their wing area (or lift/drag coefficient) data. For example, the wing area of Boeing aircraft is generally quoted using the *Wimpress method* (named after former chief aerodynamicist John K. Wimpress).\n",
    "\n",
    "Next, a comment on the weight. $W$ in the equations above is clearly a *force*, but the fact that 'take-off weight' is almost always quoted in units of mass (typically kg, lbs, or tonnes) may confuse matters. Such numbers have to be converted into units of force when using these equations."
   ]
  },
  {
   "cell_type": "markdown",
   "id": "56740bc9",
   "metadata": {},
   "source": [
    "## Climb\n",
    "[Back to Contents ⬆️](#Contents)"
   ]
  },
  {
   "cell_type": "markdown",
   "id": "d369b82f",
   "metadata": {},
   "source": [
    "<img src=\"../img/climb.png\" width=\"45%\" align=\"left\">\n",
    "Simplified sketch of forces acting on an aircraft in the climb (background image of a Lockheed Martin F-22 Raptor courtesy of the US Air Force)."
   ]
  },
  {
   "cell_type": "markdown",
   "id": "56a794b2",
   "metadata": {},
   "source": [
    "### Fundamental concepts"
   ]
  },
  {
   "cell_type": "markdown",
   "id": "2d20063b",
   "metadata": {},
   "source": [
    "- **Climb angle** $\\theta$ - the angle between the horizontal and the tangent to the flightpath of (the centre of gravity of) the aircraft. Positive for climbing flight, negative for descents."
   ]
  },
  {
   "cell_type": "markdown",
   "id": "abca7a2a",
   "metadata": {},
   "source": [
    "- **Climb gradient** - usually expressed in percentage = $100\\times\\tan\\theta$"
   ]
  },
  {
   "cell_type": "markdown",
   "id": "5c137e12",
   "metadata": {},
   "source": [
    "- **Angle of attack** ($\\alpha$) - if the airframe reference we use is the wing chord, then this is the angle of attack of the wing (if a fuselage reference is used, then the setting angle of the wing must be taken into account)."
   ]
  },
  {
   "cell_type": "markdown",
   "id": "364bf2fd",
   "metadata": {},
   "source": [
    "- **Rate of climb** (RoC) is the vertical component of the true airspeed $V$, so RoC = $V\\sin\\theta$ = $\\frac{\\mathrm{d}h}{\\mathrm{d}t}$."
   ]
  },
  {
   "cell_type": "markdown",
   "id": "153b4a2f",
   "metadata": {},
   "source": [
    "- **The inertial effect of density lapse** If the aircraft climbs at a constant indicated airspeed (or constant calibrated airspeed, in practice), its true airspeed (which is what matters from the point of view of the acceleration term in Newton's second law) will increase as the ambient density drops along its ascending path [example from *Jet Transport Performance Models (Boeing)*: over the first 1000 feet of a climb at sea level 150KIAS, the true airspeed will have increased by 4KTAS]. The resulting inertial term can be written, in the direction of the airspeed vector V, as:\n",
    "$$\n",
    "ma = \\frac{W}{g}\\frac {\\mathrm{d}V}  {\\mathrm{d}t}\n",
    "\\\\\n",
    "$$\n",
    "where $m$ and $W$ are the mass and weight of the aircraft respectively."
   ]
  },
  {
   "cell_type": "markdown",
   "id": "9e327e5a",
   "metadata": {},
   "source": [
    "- **The inertial effect of angle of climb variation** Along with the true airspeed, in the most general case, the angle of climb $\\theta$ may vary during the climb too. In other words, the direction of the true velocity vector $\\overrightarrow{V}$, along which we considered the inertial term above, may itself, be changing. This turns the trajectory into a curve. Approximating this curve as a circular arc, we can think of the force changing the climb gradient as a centripetal force $mr\\omega^2$, where $\\omega$ is the angular velocity, which is also the rate of change of the angle of the tangent to the trajectory, so $\\omega = \\mathrm{d}\\theta / \\mathrm{d}t$. Since the true airspeed $V=r\\omega$, the centripetal force can be written as:\n",
    "$$mV\\omega = \\frac{W}{g}V\\frac{\\mathrm{d}\\theta}{\\mathrm{d}t}$$"
   ]
  },
  {
   "cell_type": "markdown",
   "id": "acd16689",
   "metadata": {},
   "source": [
    "### T/W required for sustaining a given rate of climb"
   ]
  },
  {
   "cell_type": "markdown",
   "id": "643aeee2",
   "metadata": {},
   "source": [
    "#### Perpendicular to the flight path"
   ]
  },
  {
   "cell_type": "markdown",
   "id": "d24b41f8",
   "metadata": {},
   "source": [
    "Projecting $F = ma$ onto the $z$ axis (perpendicular to the flight path):"
   ]
  },
  {
   "cell_type": "markdown",
   "id": "6cc3400f",
   "metadata": {},
   "source": [
    "$$\\underbrace{L-W\\cos{\\theta}+T\\sin\\alpha}_{\\textbf{z-components of lift, weight and thrust}} = \\overbrace{-\\frac{W}{g}V\\frac {\\mathrm{d}\\theta}{\\mathrm{d}t}}^{\\textbf{mass}\\,\\times\\,\\textbf{acc. due to climb angle change}} $$"
   ]
  },
  {
   "cell_type": "markdown",
   "id": "650f10c8",
   "metadata": {},
   "source": [
    "A possible shortcut at this stage, if a 'clean' analytical solution is desired, is that, since for the angles of attack $\\alpha$ typical of a steady state climb $\\sin\\alpha <0.1$, we drop the $\\sin$ term altogether:"
   ]
  },
  {
   "cell_type": "markdown",
   "id": "d0d2babf",
   "metadata": {},
   "source": [
    "$$L-W\\cos{\\theta} = -\\frac{W}{g}V\\frac {\\mathrm{d}\\theta}{\\mathrm{d}t}$$"
   ]
  },
  {
   "cell_type": "markdown",
   "id": "e3d43351",
   "metadata": {},
   "source": [
    "Further, if we assume that the time derivative of the climb angle is negligible (so the right hand side of the equation above is zero), the lift equation can be written as:"
   ]
  },
  {
   "cell_type": "markdown",
   "id": "9b7e9ec0",
   "metadata": {},
   "source": [
    "$$L = W\\cos\\theta = qSC_\\mathrm{L}.$$"
   ]
  },
  {
   "cell_type": "markdown",
   "id": "f54e9d0d",
   "metadata": {},
   "source": [
    "#### Along the flight path"
   ]
  },
  {
   "cell_type": "markdown",
   "id": "7a412279",
   "metadata": {},
   "source": [
    "Projecting the climb forces onto the $x$ (trajectory tangent) axis:"
   ]
  },
  {
   "cell_type": "markdown",
   "id": "8dfab4fc",
   "metadata": {},
   "source": [
    "$$-D-W\\sin\\theta+T=\\overbrace{\\frac{W}{g}\\frac{\\mathrm{d}V}{\\mathrm{d}t}}^{\\textbf{mass}\\,\\times\\,\\textbf{acc. due to true airspeed change}}$$"
   ]
  },
  {
   "cell_type": "markdown",
   "id": "1c64b14b",
   "metadata": {},
   "source": [
    "Dividing each side by $W$ we obtain:"
   ]
  },
  {
   "cell_type": "markdown",
   "id": "f10cc256",
   "metadata": {},
   "source": [
    "$$\\frac{1}{W}\\left( -D-W\\sin\\theta+T  \\right)=\\frac{1}{g}\\frac{\\mathrm{d}V}{\\mathrm{d}t}$$"
   ]
  },
  {
   "cell_type": "markdown",
   "id": "877e3562",
   "metadata": {},
   "source": [
    "We can express the sine of the climb angle from here:"
   ]
  },
  {
   "cell_type": "markdown",
   "id": "36f4d35b",
   "metadata": {},
   "source": [
    "$$\\sin\\theta = \\frac{T}{W}-\\frac{D}{W} - \\frac{1}{g}\\frac{\\mathrm{d}V}{\\mathrm{d}t}.$$"
   ]
  },
  {
   "cell_type": "markdown",
   "id": "34cfe2c1",
   "metadata": {},
   "source": [
    "We rewrite the vertical acceleration term, using the chain rule, as: "
   ]
  },
  {
   "cell_type": "markdown",
   "id": "a91f591a",
   "metadata": {},
   "source": [
    "$$\\frac{\\mathrm{d}V}{\\mathrm{d}t} = \\frac{\\mathrm{d}V}{\\mathrm{d}h} \\frac{\\mathrm{d}h}{\\mathrm{d}t}$$"
   ]
  },
  {
   "cell_type": "markdown",
   "id": "ae348209",
   "metadata": {},
   "source": [
    "where $h$ is the geopotential altitude. The climb rate $\\frac{\\mathrm{d}h}{\\mathrm{d}t} = V\\sin\\theta$ and thus"
   ]
  },
  {
   "cell_type": "markdown",
   "id": "8f7f9671",
   "metadata": {},
   "source": [
    "$$\\sin\\theta = \\frac{T}{W}-\\frac{D}{W} - \\frac{1}{g}\\frac{\\mathrm{d}V}{\\mathrm{d}h}V\\sin\\theta.$$"
   ]
  },
  {
   "cell_type": "markdown",
   "id": "045f5649",
   "metadata": {},
   "source": [
    "Rearranging, we obtain:"
   ]
  },
  {
   "cell_type": "markdown",
   "id": "cc356eb5",
   "metadata": {},
   "source": [
    "$$\\sin\\theta\\left(1+ \\frac{V}{g}\\frac{\\mathrm{d}V}{\\mathrm{d}h}\\right) = \\frac{T}{W}-\\frac{D}{W} $$"
   ]
  },
  {
   "cell_type": "markdown",
   "id": "47707768",
   "metadata": {},
   "source": [
    "Replace the drag force with a drag coefficient:"
   ]
  },
  {
   "cell_type": "markdown",
   "id": "5265f2de",
   "metadata": {},
   "source": [
    "$$\\sin\\theta\\left(1+ \\frac{V}{g}\\frac{\\mathrm{d}V}{\\mathrm{d}h}\\right) = \\frac{T}{W}-\\frac{qSC_D}{W} $$"
   ]
  },
  {
   "cell_type": "markdown",
   "id": "6d08d487",
   "metadata": {},
   "source": [
    "Assuming that $C_D = f(C_L)$ and recalling our earlier definition of lift, we can replace $C_D$ with:"
   ]
  },
  {
   "cell_type": "markdown",
   "id": "7332dfa7",
   "metadata": {},
   "source": [
    "$$\n",
    "\\begin{eqnarray}\n",
    "\\sin\\theta\\left(1+ \\frac{V}{g}\\frac{\\mathrm{d}V}{\\mathrm{d}h}\\right)\n",
    "&=& \\frac{T}{W}-\\frac{qS \\cdot f(C_L)}{W} \\\\\n",
    "&=& \\frac{T}{W}-\\frac{q \\cdot f\\left( \\frac{W}{S}\\frac{\\cos \\theta}{q} \\right)}{W/S} \n",
    "\\end{eqnarray}\n",
    "$$"
   ]
  },
  {
   "cell_type": "markdown",
   "id": "302c6a7f",
   "metadata": {},
   "source": [
    "The second term on the left-hand side of the equation is sometimes referred to as the *acceleration factor*:"
   ]
  },
  {
   "cell_type": "markdown",
   "id": "923b6a2d",
   "metadata": {},
   "source": [
    "$$K_\\mathrm{a} = 1+ \\frac{V}{g}\\frac{\\mathrm{d}V}{\\mathrm{d}h}$$"
   ]
  },
  {
   "cell_type": "markdown",
   "id": "a69a7fa0",
   "metadata": {},
   "source": [
    "Thus:"
   ]
  },
  {
   "cell_type": "markdown",
   "id": "5030fcc1",
   "metadata": {},
   "source": [
    "$$K_\\mathrm{a}\\sin\\theta = \\frac{T}{W}-\\frac{q \\cdot f\\left( \\frac{W}{S}\\frac{\\cos \\theta}{q} \\right)}{W/S} $$"
   ]
  },
  {
   "cell_type": "markdown",
   "id": "c81fba5d",
   "metadata": {},
   "source": [
    "and from here the thrust to weight ratio required can be expressed as:"
   ]
  },
  {
   "cell_type": "markdown",
   "id": "4f0c7100",
   "metadata": {},
   "source": [
    "$$\\frac{T}{W} = \\frac{q \\cdot f\\left( \\frac{W}{S}\\frac{\\cos \\theta}{q} \\right)}{W/S}  + K_\\mathrm{a}\\sin\\theta$$"
   ]
  },
  {
   "cell_type": "markdown",
   "id": "6c281c9c",
   "metadata": {},
   "source": [
    "or, in terms of the rate of climb $\\text{RoC}$ (= $V\\sin\\theta$):"
   ]
  },
  {
   "cell_type": "markdown",
   "id": "34babc8b",
   "metadata": {},
   "source": [
    "$$\\frac{T}{W} = \\frac{q \\cdot f\\left( \\frac{W}{S}\\frac{\\cos \\theta}{q} \\right)}{W/S}  + K_\\mathrm{a}\\frac{\\mathrm{RoC}}{V}$$"
   ]
  },
  {
   "cell_type": "markdown",
   "id": "5749731a",
   "metadata": {},
   "source": [
    "For a rapid, first order estimate, we could assume a shallow climb, that is, $\\cos\\theta\\approx1$ and $\\mathrm{d}V/\\mathrm{d}h\\approx0$, so $K_a=1$, in which case:"
   ]
  },
  {
   "cell_type": "markdown",
   "id": "26a2e149",
   "metadata": {},
   "source": [
    "$$\\frac{T}{W} \\approx \\frac{q \\cdot f\\left( \\frac{W/S}{q} \\right)}{W/S} + \\frac{\\mathrm{RoC}}{V}$$"
   ]
  },
  {
   "cell_type": "markdown",
   "id": "e9ccafe5",
   "metadata": {
    "collapsed": true,
    "jupyter": {
     "outputs_hidden": true
    }
   },
   "source": [
    "There are two tricky-to-estimate items here.\n",
    "One is the function $C_D = f(C_L)$ (we'll take a look at this in the [next notebook](./)).\n",
    "The other is $V$, the climb speed.\n",
    "Technically this should be the best rate of climb speed $V_{\\text{Y}}$, but at this point in the design process we don't really know that. For both we therefore need to look at historical data, if available, and use suitable error margins around our estimated values.\n",
    "Also, for an initial climb constraint the typical sub-10,000 feet speed limit (introduced for air traffic management reasons) of 250 knots should be seen as an upper limit to $V$. "
   ]
  },
  {
   "cell_type": "markdown",
   "id": "bac574c0",
   "metadata": {},
   "source": [
    "## Cruise\n",
    "[Back to Contents ⬆️](#Contents)"
   ]
  },
  {
   "cell_type": "markdown",
   "id": "a957caaa",
   "metadata": {},
   "source": [
    "From the condition that for steady, level cruising flight thrust must equal drag:\n",
    "\n",
    "$$T=D=\\frac{1}{2}\\rho V^2S C_\\mathrm{D} = qS \\cdot f\\left( C_L \\right)$$"
   ]
  },
  {
   "cell_type": "markdown",
   "id": "24774123",
   "metadata": {},
   "source": [
    "where, as before, $f$ is the function that produces $C_D$ as a function of $C_L$."
   ]
  },
  {
   "cell_type": "markdown",
   "id": "14aad2b2",
   "metadata": {},
   "source": [
    "Since lift must equal weight, we can extract the lift coefficient from the lift equation and write it in terms of the weight $W$ as $C_\\mathrm{L}=2W/\\rho V^2 S$. Inserting this into the above and rearranging yields:\n",
    "\n",
    "$$\\frac{T}{W} = \\frac{q \\cdot f\\left( \\frac{W/S}{q}\\right)}{W/S}  $$"
   ]
  },
  {
   "cell_type": "markdown",
   "id": "7344206f",
   "metadata": {},
   "source": [
    "It may be noted that this is basically the rate of climb constraint with the rate of climb set to zero, though, of course, $q$ will be different - it will be the $q$ corresponding to the desired cruise speed."
   ]
  },
  {
   "cell_type": "markdown",
   "id": "18a95b5f",
   "metadata": {},
   "source": [
    "Note also that the cruise speed (which plugs into the $q$ above) is a true airspeed (TAS), standing in as a surrogate for ground speed (on the zero wind assumption) - after all, when we specify a cruise speed requirement for an aeroplane, we are interested in how long it takes to get from A to B, not what number is displayed on its airspeed indicator."
   ]
  },
  {
   "cell_type": "markdown",
   "id": "bb6d76f0",
   "metadata": {},
   "source": [
    "## Sustained turn\n",
    "[Back to Contents ⬆️](#Contents)"
   ]
  },
  {
   "cell_type": "markdown",
   "id": "1c5023c6",
   "metadata": {},
   "source": [
    "<img src=\"../img/turn.png\" width=\"20%\" align=\"left\">"
   ]
  },
  {
   "cell_type": "markdown",
   "id": "72af6636",
   "metadata": {},
   "source": [
    "*Forces in a turn (background image of an Aerostar R40 Festival by A Sóbester).*"
   ]
  },
  {
   "cell_type": "markdown",
   "id": "54ac30d0",
   "metadata": {},
   "source": [
    "### T/W required for sustaining a load factor *n*"
   ]
  },
  {
   "cell_type": "markdown",
   "id": "02e8e038",
   "metadata": {},
   "source": [
    "Writing the balance of forces on the basis of the diagram above:"
   ]
  },
  {
   "cell_type": "markdown",
   "id": "d53b9ad2",
   "metadata": {},
   "source": [
    "$$\n",
    "\\begin{eqnarray}\n",
    "T&-&D&=&0 \\\\\n",
    "L\\,\\mathrm{cos}\\phi\\, &-&W&=&0 \\\\\n",
    "L\\,\\mathrm{sin}\\phi\\, &-&\\frac{W}{g}\\frac{V^2}{R_\\mathrm{turn}}&=&0\n",
    "\\end{eqnarray}\n",
    "$$"
   ]
  },
  {
   "cell_type": "markdown",
   "id": "fc472f27",
   "metadata": {},
   "source": [
    "Note: the $V$ in the equation above is *true airspeed* (TAS), as this is an inertial term and the inertia is, of course, entirely independent of ambient air density (we are assuming zero wind)."
   ]
  },
  {
   "cell_type": "markdown",
   "id": "428d1e13",
   "metadata": {},
   "source": [
    "From the first equation, breaking the drag down in the usual way (parabolic drag assumption):"
   ]
  },
  {
   "cell_type": "markdown",
   "id": "6ff48b69",
   "metadata": {},
   "source": [
    "$$T = D = qSC_{\\mathrm{D}} = qS \\cdot f(C_L) = qS \\cdot f\\left( \\frac{W}{S}\\frac{\\cos \\phi}{q} \\right)$$"
   ]
  },
  {
   "cell_type": "markdown",
   "id": "0e67ea4c",
   "metadata": {},
   "source": [
    "We define the *load factor* $n$ as the ratio of the lift and the weight (n=1 in steady, level flight), so $L = nW = qSC_\\mathrm{L}$. From the force balance above, $n=1/\\mathrm{cos}\\,\\phi$."
   ]
  },
  {
   "cell_type": "markdown",
   "id": "9c7a1b6b",
   "metadata": {},
   "source": [
    "$$\\frac{T}{W}=\\frac{q \\cdot f\\left( \\frac{W}{S} \\frac{n}{q}\\right)}{W/S}$$"
   ]
  },
  {
   "cell_type": "markdown",
   "id": "ff81d42f",
   "metadata": {},
   "source": [
    "Some additional, useful relationships that can be derived from the above force balance..."
   ]
  },
  {
   "cell_type": "markdown",
   "id": "869ea291",
   "metadata": {},
   "source": [
    "$$R_\\mathrm{turn} = \\frac{WV^2}{gL\\sin\\phi} = \\frac{V^2}{gn\\sin\\phi} = \\frac{V^2}{g\\tan\\phi}$$ or $$R_\\mathrm{turn} = \\frac{V^2}{g\\sqrt{n^2-1}} $$"
   ]
  },
  {
   "cell_type": "markdown",
   "id": "060821c5",
   "metadata": {},
   "source": [
    "Note: From the lift required from the wing to accomplish the turn $L = nW = qSC_\\mathrm{L}$, we can calculate the required lift coefficient: $C_\\mathrm{L} = n\\,(W/S)\\,/q$. Of course, increasing the lift coefficient in the turn is only feasible by increasing the angle of attack, thus getting closer to the clean $C_\\mathrm{L}^\\mathrm{max}$. This means that there comes a point (at the higher end of the W/S scale) where the wing will not be able to generate the required lift (it will have reached its critical alpha), regardless of the amount of excees thrust available. You thus need to not only compute the T/W for a range of wing loadings, but also check that the required lift coefficient does not exceed $C_\\mathrm{L}^\\mathrm{max}$."
   ]
  },
  {
   "cell_type": "markdown",
   "id": "9f3cd674",
   "metadata": {},
   "source": [
    "## Service ceiling\n",
    "[Back to Contents ⬆️](#Contents)"
   ]
  },
  {
   "cell_type": "markdown",
   "id": "81e5cfe8",
   "metadata": {},
   "source": [
    "### The best rate of climb airspeed"
   ]
  },
  {
   "cell_type": "markdown",
   "id": "e4bc4579",
   "metadata": {},
   "source": [
    "The service ceiling of an aircraft is defined as the maximum altitude at which the aircraft is able to attain a specified minimal rate of climb - usually 100fpm (0.508m/s) -- when flying at best climbing speed. This means that we can simply use the rate of climb constraint formulation here too, with the caveat that the accuracy of the ceiling constraint calculation depends on our estimate of the best climb speed. \n",
    "\n",
    "For propeller aircraft Gudmundsson (page 833, Equation 18-27) offers the following estimate of the best rate of climb speed (in terms of true airspeed):\n",
    "\n",
    "$$V_\\mathrm{Y} = \\sqrt{\\frac{2}{\\rho}\\left(\\frac{W}{S}\\right)   \\sqrt{ \\frac{k}{3\\,C_\\mathrm{Dmin}} }   }$$\n",
    "\n",
    "This is the true airspeed that yields the maximum excess thrust (that is, where the difference between power available and power required is the greatest)."
   ]
  },
  {
   "cell_type": "markdown",
   "id": "2fde4c90",
   "metadata": {},
   "source": [
    "Estimates can be obtained using `AircraftConcept.get_bestV_Y`, however, when applied to aircraft reverse engineered with this library, these can be significantly different to the published speeds in the pilot's operating handbook.\n",
    "Note that the ADRpy method will produce a result that differs from the analytical method, as it includes extra parameters for higher fidelity drag modelling.\n",
    "At this point of the design process, we have limited means to come up with better estimates - unless we can make guesses based on existing, similar designs."
   ]
  },
  {
   "cell_type": "markdown",
   "id": "f2b00dcf",
   "metadata": {},
   "source": [
    "### Adapting the rate of climb constraint"
   ]
  },
  {
   "cell_type": "markdown",
   "id": "b5c90820",
   "metadata": {},
   "source": [
    "The service ceiling constraint is, essentially, a rate of climb constraint (with a set rate \n",
    "of climb of 0.5m/s), so its implementation (in the `AircraftConcept.constrain_servceil` method) is very similar to that of the climb rate constraint. It requires two additional `designbrief` entries: `servceil_m` (the required service ceiling in metres) and `secclimbspd_kias` (the best indicated airspeed for climb to the service ceiling)."
   ]
  },
  {
   "cell_type": "markdown",
   "id": "f84f0c01",
   "metadata": {},
   "source": [
    "# References\n",
    "<!-- <a name=\"refs\"></a> -->\n",
    "\n",
    "[1]  Gudmundsson, S., \"General Aviation Aircraft Design: Applied Methods and Procedures\", Butterworth-Heinemann, 2013. "
   ]
  }
 ],
 "metadata": {
  "kernelspec": {
   "display_name": "Python 3 (ipykernel)",
   "language": "python",
   "name": "python3"
  },
  "language_info": {
   "codemirror_mode": {
    "name": "ipython",
    "version": 3
   },
   "file_extension": ".py",
   "mimetype": "text/x-python",
   "name": "python",
   "nbconvert_exporter": "python",
   "pygments_lexer": "ipython3",
   "version": "3.12.1"
  }
 },
 "nbformat": 4,
 "nbformat_minor": 5
}
