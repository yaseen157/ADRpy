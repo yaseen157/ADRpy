{
 "cells": [
  {
   "cell_type": "markdown",
   "metadata": {},
   "source": [
    "<img src=\"https://github.com/sobester/ADRpy/raw/master/docs/ADRpy/ADRpy_splash.png\" width=\"40%\" align=\"left\">\n",
    "\n",
    "*Given a general layout (perhaps one of several candidates at this stage) and some idea of the maximum take-off weight, the next major step of the conceptual design process is the constraint analysis, which will yield the required wing area and thrust - effectively giving 'scale' to the concept.*\n",
    "\n",
    "*The constraint analysis establishes the boundaries of the feasible part of the thrust to weight ratio (T/W) versus wing loading (W/S) space. Each element of the mission of the aircraft 'bites out' a chunk from this space and the final aeroplane we will progress to the subsequent stages of the design process will have to 'live' in the remaining subspace - generally at the lowest thrust/smallest wing point of the remaining feasible chunk.*\n",
    "\n",
    "*In this notebook, we investigate the boundary associated with the* **climb constraint.**"
   ]
  },
  {
   "cell_type": "markdown",
   "metadata": {},
   "source": [
    "# Scaling an aircraft concept with ADRpy - the climb constraint"
   ]
  },
  {
   "cell_type": "markdown",
   "metadata": {},
   "source": [
    "<img src=\"https://github.com/sobester/ADRpy/raw/master/docs/ADRpy/img/climb.png\" width=\"45%\" align=\"left\">\n",
    "Simplified sketch of forces acting on an aircraft in the climb (background image of a Lockheed Martin F-22 Raptor courtesy of the US Air Force)."
   ]
  },
  {
   "cell_type": "markdown",
   "metadata": {},
   "source": [
    "### Fundamental concepts"
   ]
  },
  {
   "cell_type": "markdown",
   "metadata": {},
   "source": [
    "**Climb angle** $\\theta$ - the angle between the horizontal and the tangent to the flightpath of (the centre of gravity of) the aircraft. Positive for climbing flight, negative for descents."
   ]
  },
  {
   "cell_type": "markdown",
   "metadata": {},
   "source": [
    "**Climb gradient** - usually expressed in percentage = $100\\times\\tan\\theta$"
   ]
  },
  {
   "cell_type": "markdown",
   "metadata": {},
   "source": [
    "**Angle of attack** ($\\alpha$) - if the airframe reference we use is the wing chord, then this is the angle of attack of the wing (if a fuselage reference is used, then the setting angle of the wing must be taken into account)."
   ]
  },
  {
   "cell_type": "markdown",
   "metadata": {},
   "source": [
    "**Rate of climb** (RoC) is the vertical component of the true airspeed $V$, so RoC = $V\\sin\\theta$ = $\\frac{\\mathrm{d}h}{\\mathrm{d}t}$."
   ]
  },
  {
   "cell_type": "markdown",
   "metadata": {},
   "source": [
    "**The inertial effect of density lapse** If the aircraft climbs at a constant indicated airspeed (or constant calibrated airspeed, in practice), its true airspeed (which is what matters from the point of view of the acceleration term in Newton's second law) will increase as the ambient density drops along its ascending path [example from *Jet Transport Performance Models (Boeing)*: over the first 1000 feet of a climb at sea level 150KIAS, the true airspeed will have increased by 4KTAS]. The resulting inertial term can be written, in the direction of the airspeed vector V, as:"
   ]
  },
  {
   "cell_type": "markdown",
   "metadata": {},
   "source": [
    "$$ma = \\frac{W}{g}\\frac {\\mathrm{d}V}  {\\mathrm{d}t}$$"
   ]
  },
  {
   "cell_type": "markdown",
   "metadata": {},
   "source": [
    "where $m$ and $W$ are the mass and weight of the aircraft respectively."
   ]
  },
  {
   "cell_type": "markdown",
   "metadata": {},
   "source": [
    "**The inertial effect of angle of climb variation** Along with the true airspeed, in the most general case, the angle of climb $\\theta$ may vary during the climb too. In other words, the direction of the true velocity vector $\\overrightarrow{V}$, along which we considered the inertial term above, may itself, be changing. This turns the trajectory into a curve. Approximating this curve as a circular arc, we can think of the force changing the climb gradient as a centripetal force $mr\\omega^2$, where $\\omega$ is the angular velocity, which is also the rate of change of the angle of the tangent to the trajectory, so $\\omega = \\mathrm{d}\\theta / \\mathrm{d}t$. Since the true airspeed $V=r\\omega$, the centripetal force can be written as:"
   ]
  },
  {
   "cell_type": "markdown",
   "metadata": {},
   "source": [
    "$$mV\\omega = \\frac{W}{g}V\\frac{\\mathrm{d}\\theta}{\\mathrm{d}t}$$"
   ]
  },
  {
   "cell_type": "markdown",
   "metadata": {},
   "source": [
    "### T/W required for sustaining a given rate of climb"
   ]
  },
  {
   "cell_type": "markdown",
   "metadata": {},
   "source": [
    "#### Perpendicular to the flight path"
   ]
  },
  {
   "cell_type": "markdown",
   "metadata": {},
   "source": [
    "Projecting $F = ma$ onto the $z$ axis (perpendicular to the flight path):"
   ]
  },
  {
   "cell_type": "markdown",
   "metadata": {},
   "source": [
    "$$\\underbrace{L-W\\cos{\\theta}+T\\sin\\alpha}_{\\textbf{z-components of lift, weight and thrust}} = \\overbrace{-\\frac{W}{g}V\\frac {\\mathrm{d}\\theta}{\\mathrm{d}t}}^{\\textbf{mass}\\,\\times\\,\\textbf{acc. due to climb angle change}} $$"
   ]
  },
  {
   "cell_type": "markdown",
   "metadata": {},
   "source": [
    "A possible shortcut at this stage, if a 'clean' analytical solution is desired, is that, since for the angles of attack $\\alpha$ typical of a steady state climb $\\sin\\alpha <0.1$, we drop the $\\sin$ term altogether:"
   ]
  },
  {
   "cell_type": "markdown",
   "metadata": {},
   "source": [
    "$$L-W\\cos{\\theta} = -\\frac{W}{g}V\\frac {\\mathrm{d}\\theta}{\\mathrm{d}t}$$"
   ]
  },
  {
   "cell_type": "markdown",
   "metadata": {},
   "source": [
    "Further, if we assume that the time derivative of the climb angle is negligible (so the right hand side of the equation above is zero), the lift equation can be written as:"
   ]
  },
  {
   "cell_type": "markdown",
   "metadata": {},
   "source": [
    "$$L = W\\cos\\theta = qSC_\\mathrm{L}.$$"
   ]
  },
  {
   "cell_type": "markdown",
   "metadata": {},
   "source": [
    "Assuming a parabolic drag polar, we write the total drag as:"
   ]
  },
  {
   "cell_type": "markdown",
   "metadata": {},
   "source": [
    "$$D = qS\\left[C_{\\mathrm{D}\\mathrm{min}}+C_\\mathrm{ind}\\right] = qS\\left[C_{\\mathrm{D}\\mathrm{min}}+kC_\\mathrm{L}^2\\right]$$"
   ]
  },
  {
   "cell_type": "markdown",
   "metadata": {},
   "source": [
    "and we insert the lift coefficient from the $z$ component climb equation derived above: "
   ]
  },
  {
   "cell_type": "markdown",
   "metadata": {},
   "source": [
    "$$D = qS\\left[C_{\\mathrm{D}\\mathrm{min}}+k\\left(\\frac{W \\cos\\,\\theta}{qS}\\right)^2\\right]= \\\\=qSC_{\\mathrm{D}\\mathrm{min}} +k\\frac{W^2 \\cos^2\\theta}{qS}\\\\= qSC_{\\mathrm{D}\\mathrm{min}} +\\frac{k}{q}\\left(\\frac{W}{S}\\right)W \\cos^2\\theta$$"
   ]
  },
  {
   "cell_type": "markdown",
   "metadata": {},
   "source": [
    "#### Along the flight path"
   ]
  },
  {
   "cell_type": "markdown",
   "metadata": {},
   "source": [
    "Projecting the climb forces onto the $x$ (trajectory tangent) axis:"
   ]
  },
  {
   "cell_type": "markdown",
   "metadata": {},
   "source": [
    "$$-D-W\\sin\\theta+T=\\overbrace{\\frac{W}{g}\\frac{\\mathrm{d}V}{\\mathrm{d}t}}^{\\textbf{mass}\\,\\times\\,\\textbf{acc. due to true airspeed change}}$$"
   ]
  },
  {
   "cell_type": "markdown",
   "metadata": {},
   "source": [
    "Dividing each side by $W$ we obtain:"
   ]
  },
  {
   "cell_type": "markdown",
   "metadata": {},
   "source": [
    "$$\\frac{1}{W}\\left( -D-W\\sin\\theta+T  \\right)=\\frac{1}{g}\\frac{\\mathrm{d}V}{\\mathrm{d}t}$$"
   ]
  },
  {
   "cell_type": "markdown",
   "metadata": {},
   "source": [
    "We can express the sine of the climb angle from here:"
   ]
  },
  {
   "cell_type": "markdown",
   "metadata": {},
   "source": [
    "$$\\sin\\theta = \\frac{T}{W}-\\frac{D}{W} - \\frac{1}{g}\\frac{\\mathrm{d}V}{\\mathrm{d}t}.$$"
   ]
  },
  {
   "cell_type": "markdown",
   "metadata": {},
   "source": [
    "We rewrite the vertical acceleration term, using the chain rule, as: "
   ]
  },
  {
   "cell_type": "markdown",
   "metadata": {},
   "source": [
    "$$\\frac{\\mathrm{d}V}{\\mathrm{d}t} = \\frac{\\mathrm{d}V}{\\mathrm{d}h} \\frac{\\mathrm{d}h}{\\mathrm{d}t}$$"
   ]
  },
  {
   "cell_type": "markdown",
   "metadata": {},
   "source": [
    "where $h$ is the geopotential altitude. The climb rate $\\frac{\\mathrm{d}h}{\\mathrm{d}t} = V\\sin\\theta$ and thus"
   ]
  },
  {
   "cell_type": "markdown",
   "metadata": {},
   "source": [
    "$$\\sin\\theta = \\frac{T}{W}-\\frac{D}{W} - \\frac{1}{g}\\frac{\\mathrm{d}V}{\\mathrm{d}h}V\\sin\\theta.$$"
   ]
  },
  {
   "cell_type": "markdown",
   "metadata": {},
   "source": [
    "Rearranging, we obtain:"
   ]
  },
  {
   "cell_type": "markdown",
   "metadata": {},
   "source": [
    "$$\\sin\\theta\\left(1+ \\frac{V}{g}\\frac{\\mathrm{d}V}{\\mathrm{d}h}\\right) = \\frac{T}{W}-\\frac{D}{W} $$"
   ]
  },
  {
   "cell_type": "markdown",
   "metadata": {},
   "source": [
    "Inserting the drag expression derived above:"
   ]
  },
  {
   "cell_type": "markdown",
   "metadata": {},
   "source": [
    "$$\\sin\\theta\\left(1+ \\frac{V}{g}\\frac{\\mathrm{d}V}{\\mathrm{d}h}\\right) = \\frac{T}{W}-\\frac{qSC_{\\mathrm{D}\\mathrm{min}} +\\frac{k}{q}\\left(\\frac{W}{S}\\right)W\\cos^2\\theta}{W}$$"
   ]
  },
  {
   "cell_type": "markdown",
   "metadata": {},
   "source": [
    "$$\\sin\\theta\\left(1+ \\frac{V}{g}\\frac{\\mathrm{d}V}{\\mathrm{d}h}\\right)   = \\frac{T}{W}-\\frac{qC_\\mathrm{Dmin}}{\\left(W/S\\right)} -\\frac{k}{q}\\left(\\frac{W}{S}\\right)\\cos^2\\theta$$"
   ]
  },
  {
   "cell_type": "markdown",
   "metadata": {},
   "source": [
    "The second term on the left-hand side of the equation is sometimes referred to as the *acceleration factor*:"
   ]
  },
  {
   "cell_type": "markdown",
   "metadata": {},
   "source": [
    "$$K_\\mathrm{a} = 1+ \\frac{V}{g}\\frac{\\mathrm{d}V}{\\mathrm{d}h}$$"
   ]
  },
  {
   "cell_type": "markdown",
   "metadata": {},
   "source": [
    "Thus:"
   ]
  },
  {
   "cell_type": "markdown",
   "metadata": {},
   "source": [
    "$$K_\\mathrm{a}\\sin\\theta = \\frac{T}{W}-\\frac{qC_\\mathrm{Dmin}}{\\left(W/S\\right)} -\\frac{k}{q}\\left(\\frac{W}{S}\\right)\\cos^2\\theta$$"
   ]
  },
  {
   "cell_type": "markdown",
   "metadata": {},
   "source": [
    "and from here the thrust to weight ratio required can be expressed as:"
   ]
  },
  {
   "cell_type": "markdown",
   "metadata": {},
   "source": [
    "$$\\frac{T}{W} = \\frac{qC_\\mathrm{Dmin}}{\\left(W/S\\right)}+ \\frac{k}{q}\\left(\\frac{W}{S}\\right)\\cos^2\\theta + K_\\mathrm{a}\\sin\\theta$$"
   ]
  },
  {
   "cell_type": "markdown",
   "metadata": {},
   "source": [
    "or, in terms of the rate of climb RoC (= $V\\sin\\theta$):"
   ]
  },
  {
   "cell_type": "markdown",
   "metadata": {},
   "source": [
    "$$\\frac{T}{W} = \\frac{qC_\\mathrm{Dmin}}{\\left(W/S\\right)}+ \\frac{k}{q}\\left(\\frac{W}{S}\\right)\\cos^2\\theta + K_\\mathrm{a}\\frac{\\mathrm{RoC}}{V}$$"
   ]
  },
  {
   "cell_type": "markdown",
   "metadata": {},
   "source": [
    "For a rapid, first order estimate, we could assume a shallow climb, that is, $\\cos^2\\theta\\approx1$ and $\\mathrm{d}V/\\mathrm{d}h\\approx0$, so $K_a=1$, in which case:"
   ]
  },
  {
   "cell_type": "markdown",
   "metadata": {},
   "source": [
    "$$\\frac{T}{W} \\approx \\frac{qC_\\mathrm{Dmin}}{\\left(W/S\\right)}+ \\frac{k}{q}\\left(\\frac{W}{S}\\right) + \\frac{\\mathrm{RoC}}{V}$$"
   ]
  },
  {
   "cell_type": "markdown",
   "metadata": {},
   "source": [
    "Returning to the full equation, since $\\cos^2\\theta = 1 - \\sin^2\\theta = 1 - \\left(\\frac{\\mathrm{RoC}}{V}\\right)^2$, we can write:"
   ]
  },
  {
   "cell_type": "markdown",
   "metadata": {},
   "source": [
    "$$\\frac{T}{W} = \\frac{qC_\\mathrm{Dmin}}{\\left(W/S\\right)}+ \\frac{k}{q}\\left(\\frac{W}{S}\\right)\\left[1 - \\left(\\frac{\\mathrm{RoC}}{V}\\right)^2\\right] + K_\\mathrm{a}\\frac{\\mathrm{RoC}}{V}$$"
   ]
  },
  {
   "cell_type": "markdown",
   "metadata": {
    "collapsed": true
   },
   "source": [
    "There are two tricky-to-estimate items here. One is $C_\\mathrm{Dmin}$, the minimum drag in the climb configuration (we shall assume here that this is the clean configuration, that is gears up and high lift devices up). The other is $V$, the climb speed. Technically this should be the best rate of climb speed, but at this point in the design process we don't really know that. For both we therefore need to look at historical data, if available, and use suitable error margins around our estimated values. Also, for an initial climb constraint the typical sub-10,000 feet speed limit (introduced for air traffic management reasons) of 250 knots should be seen as an upper limit to $V$. "
   ]
  },
  {
   "cell_type": "markdown",
   "metadata": {},
   "source": [
    "### An example - climb performance of a business jet"
   ]
  },
  {
   "cell_type": "markdown",
   "metadata": {},
   "source": [
    "Let us consider the climb requirements of the business jet discussed in the take-off constraint notebook. In the climb section of the design brief we shall specify the required rate of climb, the climb speed and the altitude at which we would like this requirement to be satisfied. "
   ]
  },
  {
   "cell_type": "code",
   "execution_count": 1,
   "metadata": {},
   "outputs": [],
   "source": [
    "import numpy as np\n",
    "import matplotlib.pyplot as plt\n",
    "from ADRpy import unitconversions as co\n",
    "from ADRpy import constraintanalysis as ca\n",
    "from ADRpy import atmospheres as at"
   ]
  },
  {
   "cell_type": "code",
   "execution_count": 2,
   "metadata": {},
   "outputs": [
    {
     "ename": "ValueError",
     "evalue": "engine='class:jet' not recognised. Try one of validtypes={'TurbofanHiBPR': <class 'ADRpy.propulsion.TurbofanHiBPR'>, 'TurbofanLoBPR': <class 'ADRpy.propulsion.TurbofanLoBPR'>, 'Turbojet': <class 'ADRpy.propulsion.Turbojet'>, 'Turboprop': <class 'ADRpy.propulsion.Turboprop'>, 'Piston': <class 'ADRpy.propulsion.Piston'>, 'SuperchargedPiston': <class 'ADRpy.propulsion.SuperchargedPiston'>}",
     "output_type": "error",
     "traceback": [
      "\u001b[1;31m---------------------------------------------------------------------------\u001b[0m",
      "\u001b[1;31mValueError\u001b[0m                                Traceback (most recent call last)",
      "Cell \u001b[1;32mIn[2], line 8\u001b[0m\n\u001b[0;32m      4\u001b[0m designperformance \u001b[38;5;241m=\u001b[39m {\u001b[38;5;124m'\u001b[39m\u001b[38;5;124mCDTO\u001b[39m\u001b[38;5;124m'\u001b[39m:\u001b[38;5;241m0.04\u001b[39m, \u001b[38;5;124m'\u001b[39m\u001b[38;5;124mCLTO\u001b[39m\u001b[38;5;124m'\u001b[39m:\u001b[38;5;241m0.9\u001b[39m, \u001b[38;5;124m'\u001b[39m\u001b[38;5;124mCLmaxTO\u001b[39m\u001b[38;5;124m'\u001b[39m:\u001b[38;5;241m1.6\u001b[39m, \u001b[38;5;124m'\u001b[39m\u001b[38;5;124mmu_R\u001b[39m\u001b[38;5;124m'\u001b[39m:\u001b[38;5;241m0.02\u001b[39m, \u001b[38;5;124m'\u001b[39m\u001b[38;5;124mCDminclean\u001b[39m\u001b[38;5;124m'\u001b[39m:\u001b[38;5;241m0.02\u001b[39m}\n\u001b[0;32m      6\u001b[0m designatm \u001b[38;5;241m=\u001b[39m at\u001b[38;5;241m.\u001b[39mAtmosphere()\n\u001b[1;32m----> 8\u001b[0m concept \u001b[38;5;241m=\u001b[39m \u001b[43mca\u001b[49m\u001b[38;5;241;43m.\u001b[39;49m\u001b[43mAircraftConcept\u001b[49m\u001b[43m(\u001b[49m\u001b[43mdesignbrief\u001b[49m\u001b[43m,\u001b[49m\u001b[43m \u001b[49m\u001b[43mdesigndefinition\u001b[49m\u001b[43m,\u001b[49m\u001b[43m \u001b[49m\u001b[43mdesignperformance\u001b[49m\u001b[43m,\u001b[49m\u001b[43m \u001b[49m\u001b[43mdesignatm\u001b[49m\u001b[43m,\u001b[49m\u001b[43m \u001b[49m\u001b[38;5;124;43m\"\u001b[39;49m\u001b[38;5;124;43mjet\u001b[39;49m\u001b[38;5;124;43m\"\u001b[39;49m\u001b[43m)\u001b[49m\n",
      "File \u001b[1;32mc:\\users\\yr3g17\\onedrive - university of southampton\\documents\\python\\adrpy\\ADRpy\\constraintanalysis.py:291\u001b[0m, in \u001b[0;36mAircraftConcept.__init__\u001b[1;34m(self, brief, design, performance, atmosphere, propulsion)\u001b[0m\n\u001b[0;32m    289\u001b[0m     \u001b[38;5;28;01mpass\u001b[39;00m\n\u001b[0;32m    290\u001b[0m \u001b[38;5;28;01melif\u001b[39;00m \u001b[38;5;28misinstance\u001b[39m(propulsion, \u001b[38;5;28mstr\u001b[39m):\n\u001b[1;32m--> 291\u001b[0m     propulsion \u001b[38;5;241m=\u001b[39m \u001b[43mpdecks\u001b[49m\u001b[38;5;241;43m.\u001b[39;49m\u001b[43mEngineDeck\u001b[49m\u001b[43m(\u001b[49m\u001b[38;5;124;43mf\u001b[39;49m\u001b[38;5;124;43m\"\u001b[39;49m\u001b[38;5;124;43mclass:\u001b[39;49m\u001b[38;5;132;43;01m{\u001b[39;49;00m\u001b[43mpropulsion\u001b[49m\u001b[38;5;132;43;01m}\u001b[39;49;00m\u001b[38;5;124;43m\"\u001b[39;49m\u001b[43m)\u001b[49m\n\u001b[0;32m    292\u001b[0m \u001b[38;5;28;01melse\u001b[39;00m:\n\u001b[0;32m    293\u001b[0m     \u001b[38;5;28;01mraise\u001b[39;00m \u001b[38;5;167;01mValueError\u001b[39;00m(\u001b[38;5;124mf\u001b[39m\u001b[38;5;124m\"\u001b[39m\u001b[38;5;132;01m{\u001b[39;00mpropulsion\u001b[38;5;132;01m=}\u001b[39;00m\u001b[38;5;124m is an invalid choice\u001b[39m\u001b[38;5;124m\"\u001b[39m)\n",
      "File \u001b[1;32mc:\\users\\yr3g17\\onedrive - university of southampton\\documents\\python\\adrpy\\ADRpy\\propulsion.py:80\u001b[0m, in \u001b[0;36mEngineDeck.__new__\u001b[1;34m(cls, engine)\u001b[0m\n\u001b[0;32m     78\u001b[0m     \u001b[38;5;28;01mif\u001b[39;00m genericclass \u001b[38;5;129;01mis\u001b[39;00m \u001b[38;5;28;01mNone\u001b[39;00m:\n\u001b[0;32m     79\u001b[0m         errormsg \u001b[38;5;241m=\u001b[39m \u001b[38;5;124mf\u001b[39m\u001b[38;5;124m\"\u001b[39m\u001b[38;5;132;01m{\u001b[39;00mengine\u001b[38;5;132;01m=}\u001b[39;00m\u001b[38;5;124m not recognised. Try one of \u001b[39m\u001b[38;5;132;01m{\u001b[39;00mvalidtypes\u001b[38;5;132;01m=}\u001b[39;00m\u001b[38;5;124m\"\u001b[39m\n\u001b[1;32m---> 80\u001b[0m         \u001b[38;5;28;01mraise\u001b[39;00m \u001b[38;5;167;01mValueError\u001b[39;00m(errormsg)\n\u001b[0;32m     81\u001b[0m     \u001b[38;5;28;01mreturn\u001b[39;00m genericclass()\n\u001b[0;32m     83\u001b[0m \u001b[38;5;66;03m# Default behaviour, create an instance and then run the __init__ method\u001b[39;00m\n",
      "\u001b[1;31mValueError\u001b[0m: engine='class:jet' not recognised. Try one of validtypes={'TurbofanHiBPR': <class 'ADRpy.propulsion.TurbofanHiBPR'>, 'TurbofanLoBPR': <class 'ADRpy.propulsion.TurbofanLoBPR'>, 'Turbojet': <class 'ADRpy.propulsion.Turbojet'>, 'Turboprop': <class 'ADRpy.propulsion.Turboprop'>, 'Piston': <class 'ADRpy.propulsion.Piston'>, 'SuperchargedPiston': <class 'ADRpy.propulsion.SuperchargedPiston'>}"
     ]
    }
   ],
   "source": [
    "designbrief = {'climbalt_m': 1000, 'climbspeed_kias': 250, 'climbrate_fpm': 1000, \\\n",
    "               'cruisealt_m': 15000, 'cruisespeed_ktas': 445}\n",
    "designdefinition = {'aspectratio':7.3, 'sweep_le_deg':10, 'sweep_mt_deg':8, 'bpr':3.9, 'tr':1.05} \n",
    "designperformance = {'CDTO':0.04, 'CLTO':0.9, 'CLmaxTO':1.6, 'mu_R':0.02, 'CDminclean':0.02}\n",
    "\n",
    "designatm = at.Atmosphere()\n",
    "\n",
    "concept = ca.AircraftConcept(designbrief, designdefinition, designperformance, designatm, \"jet\")"
   ]
  },
  {
   "cell_type": "code",
   "execution_count": null,
   "metadata": {},
   "outputs": [],
   "source": [
    "wingloadinglist_pa = np.arange(2000, 5000, 10)"
   ]
  },
  {
   "cell_type": "code",
   "execution_count": null,
   "metadata": {},
   "outputs": [],
   "source": [
    "twratio = concept.twrequired_clm(wingloadinglist_pa)"
   ]
  },
  {
   "cell_type": "code",
   "execution_count": null,
   "metadata": {},
   "outputs": [],
   "source": [
    "plt.plot(wingloadinglist_pa, twratio)\n",
    "plt.ylabel(\"T/W ( )\")\n",
    "plt.xlabel(\"W/S (N/m$^2$)\")\n",
    "plt.title(\"Minimum thrust to weight ratio required\")\n",
    "plt.grid(True)\n",
    "plt.show()"
   ]
  },
  {
   "cell_type": "markdown",
   "metadata": {},
   "source": [
    "### Quantifying uncertainties in climb calculations"
   ]
  },
  {
   "cell_type": "markdown",
   "metadata": {},
   "source": [
    "We shall follow the uncertainty quantification approach introduced in the take-off constraint notebook. Each iteration of the following loop draws a different random value (from a suitable distribution) to be assigned to elements of the design, one performance estimate (zero lift drag) and one environmental variable (the ISA offset). We leave the design brief fixed."
   ]
  },
  {
   "cell_type": "code",
   "execution_count": null,
   "metadata": {},
   "outputs": [],
   "source": [
    "designbrief = {'rwyelevation_m':1000, 'groundrun_m':1200, \\\n",
    "               'stloadfactor': 2, 'turnalt_m': 5000, 'turnspeed_ktas': 300, \\\n",
    "               'climbalt_m': 1000, 'climbspeed_kias': 250, 'climbrate_fpm': 1000, \\\n",
    "               'cruisealt_m': 15000, 'cruisespeed_ktas': 445}\n",
    "\n",
    "twmatrix = []\n",
    "wingloadinglist_pa = np.arange(2000, 5000, 10)\n",
    "mc_samplesize = 5000\n",
    "\n",
    "for i in range(1, mc_samplesize):\n",
    "\n",
    "    ar = np.random.uniform(6.5, 9)\n",
    "    bpr = max(5, np.random.normal(8, 1))\n",
    "    tr = np.random.uniform(1.04, 1.08)\n",
    "\n",
    "    sle_deg = np.random.normal(17, 3)\n",
    "    smt_deg = sle_deg - np.random.normal(7, 3)\n",
    "    \n",
    "    offs_deg = np.random.normal(15, 15)\n",
    "    \n",
    "    cdmin = np.random.normal(0.02, 0.002)\n",
    "    \n",
    "    designdefinition = {'aspectratio':ar, 'sweep_le_deg':sle_deg, 'sweep_mt_deg':smt_deg, 'bpr':bpr, 'tr':tr} \n",
    "    designperformance = {'CDminclean':cdmin}\n",
    "    designatm = at.Atmosphere(offset_deg=offs_deg, profile=None)\n",
    "\n",
    "    concept = ca.AircraftConcept(designbrief, designdefinition, designperformance, designatm, \"jet\")\n",
    "    tw_sl = concept.twrequired_clm(wingloadinglist_pa)\n",
    "    \n",
    "    if np.size(twmatrix) > 0:\n",
    "        twmatrix = np.vstack((twmatrix,tw_sl))\n",
    "    else:\n",
    "        twmatrix = tw_sl"
   ]
  },
  {
   "cell_type": "markdown",
   "metadata": {},
   "source": [
    "We can now use the stack of required T/W vectors to calculate feasible percentiles on each:"
   ]
  },
  {
   "cell_type": "code",
   "execution_count": null,
   "metadata": {},
   "outputs": [],
   "source": [
    "for feasible_percentile in [50, 60, 70, 80, 90, 95, 99]:\n",
    "    percentile_tw = np.percentile(twmatrix, feasible_percentile, axis=0)\n",
    "    plt.plot(wingloadinglist_pa, percentile_tw, label = str(feasible_percentile)+' percentile')\n",
    "\n",
    "legend = plt.legend(loc='upper left')\n",
    "plt.ylabel(\"T/W ( )\")\n",
    "plt.xlabel(\"W/S (N/m$^2$)\")\n",
    "plt.title(\"Minimum thrust to weight ratio required\")\n",
    "plt.grid(True)\n",
    "plt.show()"
   ]
  },
  {
   "cell_type": "code",
   "execution_count": null,
   "metadata": {},
   "outputs": [],
   "source": []
  }
 ],
 "metadata": {
  "kernelspec": {
   "display_name": "Python 3 (ipykernel)",
   "language": "python",
   "name": "python3"
  },
  "language_info": {
   "codemirror_mode": {
    "name": "ipython",
    "version": 3
   },
   "file_extension": ".py",
   "mimetype": "text/x-python",
   "name": "python",
   "nbconvert_exporter": "python",
   "pygments_lexer": "ipython3",
   "version": "3.9.5"
  }
 },
 "nbformat": 4,
 "nbformat_minor": 4
}
